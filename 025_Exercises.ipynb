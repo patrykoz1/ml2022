{
 "cells": [
  {
   "cell_type": "markdown",
   "metadata": {},
   "source": [
    "# Exercises\n",
    "\n",
    "There are three exercises in this notebook:\n",
    "\n",
    "1. Use the cross-validation method to test the linear regression with different $\\alpha$ values, at least three.\n",
    "2. Implement a SGD method that will train the Lasso regression for 10 epochs.\n",
    "3. Extend the Fisher's classifier to work with two features. Use the class as the $y$."
   ]
  },
  {
   "cell_type": "markdown",
   "metadata": {},
   "source": [
    "## 1. Cross-validation linear regression\n",
    "\n",
    "You need to change the variable ``alpha`` to be a list of alphas. Next do a loop and finally compare the results."
   ]
  },
  {
   "cell_type": "code",
   "execution_count": 15,
   "metadata": {},
   "outputs": [
    {
     "name": "stdout",
     "output_type": "stream",
     "text": [
      "0\n",
      "1\n",
      "2\n",
      "3\n",
      "4\n",
      "5\n",
      "6\n",
      "7\n",
      "8\n",
      "9\n",
      "10\n",
      "11\n",
      "12\n",
      "13\n",
      "14\n"
     ]
    },
    {
     "data": {
      "image/png": "[encoded data removed]",
      "text/plain": [
       "<Figure size 432x288 with 1 Axes>"
      ]
     },
     "metadata": {
      "needs_background": "light"
     },
     "output_type": "display_data"
    }
   ],
   "source": [
    "import numpy as np\n",
    "import matplotlib.pyplot as plt\n",
    "\n",
    "def reg_predict(inputs, w, b):\n",
    "    results = []\n",
    "    for inp in inputs:\n",
    "        results.append(inp*w+b)\n",
    "    return results\n",
    "\n",
    "x = np.array([188, 181, 197, 168, 167, 187, 178, 194, 140, 176, 168, 192, 173, 142, 176]).reshape(-1, 1).reshape(15,1)\n",
    "y = np.array([141, 106, 149, 59, 79, 136, 65, 136, 52, 87, 115, 140, 82, 69, 121]).reshape(-1, 1).reshape(15,1)\n",
    "old_x=x\n",
    "x = np.asmatrix(np.c_[np.ones((15,1)),x]) #bias column added to avoid reaching (0,0) point\n",
    "\n",
    "\n",
    "for i in range(y.shape[0]):\n",
    "        print(i)\n",
    "\n",
    "I = np.identity(2)# 1 matrix\n",
    "alphas = np.arange(0,0.2,0.0001) # change here\n",
    "res=[]\n",
    "# add 1-3 line of code here\n",
    "err_arr=[]\n",
    "for alpha in alphas:\n",
    "    i=0\n",
    "    err=0\n",
    "    for f_x in x:\n",
    "        x_in = x\n",
    "        y_in = y\n",
    "        x_in = np.delete(x_in, i, axis=0)\n",
    "        y_in = np.delete(y_in, i, axis=0)\n",
    "\n",
    "        w = np.linalg.inv(x.T*x + alpha * I)*x.T*y\n",
    "        w=w.ravel()\n",
    "        res.append(w)\n",
    "        y_out = x * w.T\n",
    "        err += (y[i] - y_out[i]) ** 2\n",
    "        i=i+1\n",
    "    err = err / y.shape[0]\n",
    "    err_arr.append(err[0, 0])\n",
    "# add 1-3 lines to compare the results\n",
    "fig, ax = plt.subplots()\n",
    "ax.plot(alphas, err_arr)\n",
    "ax.set(xlabel='alphas value', ylabel='error', title='Simple cross-validation')\n",
    "plt.show()\n"
   ]
  },
  {
   "cell_type": "markdown",
   "metadata": {},
   "source": [
    "## 2. Implement based on the Ridge regression example, the Lasso regression.\n",
    "\n",
    "Please implement the SGD method and compare the results with the sklearn Lasso regression results. "
   ]
  },
  {
   "cell_type": "code",
   "execution_count": 14,
   "metadata": {},
   "outputs": [],
   "source": [
    "import numpy as np\n",
    "\n",
    "def sgd(alpha,x,y):\n",
    "    # your code goes here\n",
    "    #epochs = iteration\n",
    "    \n",
    "    normalized = np.linalg.norm(x, axis=0)\n",
    "    counter = 0\n",
    "    w = 1\n",
    "    b = 1\n",
    "    \n",
    "    for epoch in range(0,epochs):\n",
    "        x_res = x[:, 1].reshape(-1, 1)\n",
    "        y_pre = x_res * w + b\n",
    "        delta = y - y_pre\n",
    "\n",
    "        if w <= 0:\n",
    "            dW = (-x_res.T.dot(delta) * 2 - alpha ) / (normalized[1] * normalized[1])\n",
    "        else:\n",
    "            dW = (-x_res.T.dot(delta) * 2 + alpha ) / (normalized[1] * normalized[1])\n",
    "\n",
    "        db= (-np.sum(y - y_pre) * 2) / (normalized[0] * normalized[0])\n",
    "\n",
    "        w = w - alpha * dW\n",
    "        b = b - alpha * db\n",
    "    \n",
    "    return w,b"
   ]
  },
  {
   "cell_type": "code",
   "execution_count": 27,
   "metadata": {},
   "outputs": [
    {
     "name": "stdout",
     "output_type": "stream",
     "text": [
      "[[1.61812989]]\n",
      "-180.92181407910007\n",
      "[[-101.72397081    1.16978757]]\n"
     ]
    }
   ],
   "source": [
    "epochs = 100000\n",
    "\n",
    "    \n",
    "\n",
    "x = np.array([188, 181, 197, 168, 167, 187, 178, 194, 140, 176, 168, 192, 173, 142, 176]).reshape(-1, 1).reshape(15,1)\n",
    "y = np.array([141, 106, 149, 59, 79, 136, 65, 136, 52, 87, 115, 140, 82, 69, 121]).reshape(-1, 1).reshape(15,1)\n",
    "\n",
    "x = np.asmatrix(np.c_[np.ones((15,1)),x])\n",
    "\n",
    "I = np.identity(2)\n",
    "alpha = 0.1 \n",
    "\n",
    "\n",
    "w = np.linalg.inv(x.T*x + alpha * I)*x.T*y # update this line\n",
    "\n",
    "w_r,b= sgd(alpha,x, y)\n",
    "lasso = (np.linalg.inv(x.T*x + alpha * I)*x.T*y).ravel()\n",
    "\n",
    "print(w_r)\n",
    "print(b)\n",
    "print(lasso)"
   ]
  },
  {
   "cell_type": "markdown",
   "metadata": {},
   "source": [
    "## 3. Extend the Fisher's classifier\n",
    "\n",
    "Please extend the targets of the ``iris_data`` variable and use it as the $y$."
   ]
  },
  {
   "cell_type": "code",
   "execution_count": 13,
   "metadata": {},
   "outputs": [
    {
     "name": "stdout",
     "output_type": "stream",
     "text": [
      "     0\n",
      "0    0\n",
      "1    0\n",
      "2    0\n",
      "3    0\n",
      "4    0\n",
      "..  ..\n",
      "145  2\n",
      "146  2\n",
      "147  2\n",
      "148  2\n",
      "149  2\n",
      "\n",
      "[150 rows x 1 columns]\n"
     ]
    }
   ],
   "source": [
    "import pandas as pd\n",
    "import numpy as np\n",
    "import matplotlib.pyplot as plt\n",
    "from sklearn.datasets import load_iris\n",
    "\n",
    "iris_data = load_iris()\n",
    "iris_df = pd.DataFrame(iris_data.data,columns=iris_data.feature_names)\n",
    "iris_targets = pd.DataFrame(iris_data.target)\n",
    "\n",
    "iris_df.head()\n",
    "\n",
    "x = iris_df[['sepal width (cm)', 'sepal length (cm)','petal length (cm)']].values # change here, added 1 more feature\n",
    "y = iris_targets.values # change here\n",
    "print(iris_targets)\n",
    "\n",
    "dataset_size = np.size(x)\n",
    "\n",
    "mean_x, mean_y, mean_z = np.mean(x), np.mean(y), np.mean(z)\n",
    "\n",
    "SS_xy = np.sum(y * x) - dataset_size * mean_y * mean_x\n",
    "SS_xx = np.sum(x * x) - dataset_size * mean_x * mean_x\n",
    "\n",
    "a = SS_xy / SS_xx\n",
    "b = mean_y - a * mean_x\n",
    "\n",
    "\n",
    "y_pred = a * x + b"
   ]
  },
  {
   "cell_type": "code",
   "execution_count": null,
   "metadata": {},
   "outputs": [],
   "source": []
  }
 ],
 "metadata": {
  "kernelspec": {
   "display_name": "Python 3",
   "language": "python",
   "name": "python3"
  },
  "language_info": {
   "codemirror_mode": {
    "name": "ipython",
    "version": 3
   },
   "file_extension": ".py",
   "mimetype": "text/x-python",
   "name": "python",
   "nbconvert_exporter": "python",
   "pygments_lexer": "ipython3",
   "version": "3.8.8"
  }
 },
 "nbformat": 4,
 "nbformat_minor": 4
}
