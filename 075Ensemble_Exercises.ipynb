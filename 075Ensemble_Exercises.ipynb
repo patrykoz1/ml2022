{
 "cells": [
  {
   "cell_type": "markdown",
   "metadata": {},
   "source": [
    "# Ensemble methods. Exercises\n",
    "\n",
    "\n",
    "In this section we have only two exercise:\n",
    "\n",
    "1. Find the best three classifier in the stacking method using the classifiers from scikit-learn package.\n",
    "\n",
    "2. Build arcing arc-x4 method. "
   ]
  },
  {
   "cell_type": "code",
   "execution_count": 42,
   "metadata": {},
   "outputs": [
    {
     "name": "stdout",
     "output_type": "stream",
     "text": [
      "no stored variable or alias labels\n",
      "no stored variable or alias unique_labels\n"
     ]
    }
   ],
   "source": [
    "%store -r data_set\n",
    "%store -r labels\n",
    "%store -r test_data_set\n",
    "%store -r test_labels\n",
    "%store -r unique_labels"
   ]
  },
  {
   "cell_type": "markdown",
   "metadata": {},
   "source": [
    "## Exercise 1: Find the best three classifier in the stacking method\n",
    "\n",
    "Please use the following classifiers:\n",
    "\n",
    "* Linear regression,\n",
    "* Nearest Neighbors,\n",
    "* Linear SVM,\n",
    "* Decision Tree,\n",
    "* Naive Bayes,\n",
    "* QDA."
   ]
  },
  {
   "cell_type": "code",
   "execution_count": 43,
   "metadata": {},
   "outputs": [],
   "source": [
    "import numpy as np\n",
    "from sklearn.metrics import accuracy_score\n",
    "\n",
    "from sklearn.linear_model import LinearRegression\n",
    "from sklearn.neighbors import KNeighborsClassifier\n",
    "from sklearn.svm import SVC\n",
    "from sklearn.tree import DecisionTreeClassifier\n",
    "from sklearn.naive_bayes import GaussianNB\n",
    "from sklearn.discriminant_analysis import QuadraticDiscriminantAnalysis"
   ]
  },
  {
   "cell_type": "code",
   "execution_count": 44,
   "metadata": {},
   "outputs": [],
   "source": [
    "def build_classifiers():\n",
    "    arr =[]\n",
    "    for classifier in [LinearRegression, KNeighborsClassifier, SVC, DecisionTreeClassifier, GaussianNB, QuadraticDiscriminantAnalysis]:\n",
    "        arr.append(classifier())\n",
    "        arr[-1].fit(data_set,labels)\n",
    "\n",
    "    return arr"
   ]
  },
  {
   "cell_type": "code",
   "execution_count": 47,
   "metadata": {},
   "outputs": [],
   "source": [
    "def build_stacked_classifier(classifiers):\n",
    "    output = []\n",
    "    for classifier in classifiers:\n",
    "        output.append(classifier.predict(data_set))\n",
    "    output = np.array(output).reshape((130,3))\n",
    "    \n",
    "    # stacked classifier part:\n",
    "    stacked_classifier = DecisionTreeClassifier() # set here\n",
    "    stacked_classifier.fit(output.reshape((130,3)), labels.reshape((130,)))\n",
    "    test_set = []\n",
    "    for classifier in classifiers:\n",
    "        test_set.append(classifier.predict(test_data_set))\n",
    "    test_set = np.array(test_set).reshape((len(test_set[0]),3))\n",
    "    predicted = stacked_classifier.predict(test_set)\n",
    "    return predicted"
   ]
  },
  {
   "cell_type": "code",
   "execution_count": 48,
   "metadata": {},
   "outputs": [
    {
     "ename": "TypeError",
     "evalue": "Singleton array array(2) cannot be considered a valid collection.",
     "output_type": "error",
     "traceback": [
      "\u001b[0;31m---------------------------------------------------------------------------\u001b[0m",
      "\u001b[0;31mTypeError\u001b[0m                                 Traceback (most recent call last)",
      "\u001b[0;32m<ipython-input-48-c94e449be689>\u001b[0m in \u001b[0;36m<module>\u001b[0;34m\u001b[0m\n\u001b[0;32m----> 1\u001b[0;31m \u001b[0mclassifiers\u001b[0m \u001b[0;34m=\u001b[0m \u001b[0mbuild_classifiers\u001b[0m\u001b[0;34m(\u001b[0m\u001b[0;34m)\u001b[0m\u001b[0;34m\u001b[0m\u001b[0;34m\u001b[0m\u001b[0m\n\u001b[0m\u001b[1;32m      2\u001b[0m \u001b[0mpredicted\u001b[0m \u001b[0;34m=\u001b[0m \u001b[0mbuild_stacked_classifier\u001b[0m\u001b[0;34m(\u001b[0m\u001b[0mclassifiers\u001b[0m\u001b[0;34m)\u001b[0m\u001b[0;34m\u001b[0m\u001b[0;34m\u001b[0m\u001b[0m\n\u001b[1;32m      3\u001b[0m \u001b[0maccuracy\u001b[0m \u001b[0;34m=\u001b[0m \u001b[0maccuracy_score\u001b[0m\u001b[0;34m(\u001b[0m\u001b[0mtest_labels\u001b[0m\u001b[0;34m,\u001b[0m \u001b[0mpredicted\u001b[0m\u001b[0;34m)\u001b[0m\u001b[0;34m\u001b[0m\u001b[0;34m\u001b[0m\u001b[0m\n\u001b[1;32m      4\u001b[0m \u001b[0mprint\u001b[0m\u001b[0;34m(\u001b[0m\u001b[0maccuracy\u001b[0m\u001b[0;34m)\u001b[0m\u001b[0;34m\u001b[0m\u001b[0;34m\u001b[0m\u001b[0m\n",
      "\u001b[0;32m<ipython-input-44-6375c0f1c840>\u001b[0m in \u001b[0;36mbuild_classifiers\u001b[0;34m()\u001b[0m\n\u001b[1;32m      3\u001b[0m     \u001b[0;32mfor\u001b[0m \u001b[0mclassifier\u001b[0m \u001b[0;32min\u001b[0m \u001b[0;34m[\u001b[0m\u001b[0mLinearRegression\u001b[0m\u001b[0;34m,\u001b[0m \u001b[0mKNeighborsClassifier\u001b[0m\u001b[0;34m,\u001b[0m \u001b[0mSVC\u001b[0m\u001b[0;34m,\u001b[0m \u001b[0mDecisionTreeClassifier\u001b[0m\u001b[0;34m,\u001b[0m \u001b[0mGaussianNB\u001b[0m\u001b[0;34m,\u001b[0m \u001b[0mQuadraticDiscriminantAnalysis\u001b[0m\u001b[0;34m]\u001b[0m\u001b[0;34m:\u001b[0m\u001b[0;34m\u001b[0m\u001b[0;34m\u001b[0m\u001b[0m\n\u001b[1;32m      4\u001b[0m         \u001b[0marr\u001b[0m\u001b[0;34m.\u001b[0m\u001b[0mappend\u001b[0m\u001b[0;34m(\u001b[0m\u001b[0mclassifier\u001b[0m\u001b[0;34m(\u001b[0m\u001b[0;34m)\u001b[0m\u001b[0;34m)\u001b[0m\u001b[0;34m\u001b[0m\u001b[0;34m\u001b[0m\u001b[0m\n\u001b[0;32m----> 5\u001b[0;31m         \u001b[0marr\u001b[0m\u001b[0;34m[\u001b[0m\u001b[0;34m-\u001b[0m\u001b[0;36m1\u001b[0m\u001b[0;34m]\u001b[0m\u001b[0;34m.\u001b[0m\u001b[0mfit\u001b[0m\u001b[0;34m(\u001b[0m\u001b[0mdata_set\u001b[0m\u001b[0;34m,\u001b[0m\u001b[0mlabels\u001b[0m\u001b[0;34m)\u001b[0m\u001b[0;34m\u001b[0m\u001b[0;34m\u001b[0m\u001b[0m\n\u001b[0m\u001b[1;32m      6\u001b[0m \u001b[0;34m\u001b[0m\u001b[0m\n\u001b[1;32m      7\u001b[0m     \u001b[0;32mreturn\u001b[0m \u001b[0marr\u001b[0m\u001b[0;34m\u001b[0m\u001b[0;34m\u001b[0m\u001b[0m\n",
      "\u001b[0;32m~/anaconda3/lib/python3.8/site-packages/sklearn/linear_model/_base.py\u001b[0m in \u001b[0;36mfit\u001b[0;34m(self, X, y, sample_weight)\u001b[0m\n\u001b[1;32m    516\u001b[0m         \u001b[0maccept_sparse\u001b[0m \u001b[0;34m=\u001b[0m \u001b[0;32mFalse\u001b[0m \u001b[0;32mif\u001b[0m \u001b[0mself\u001b[0m\u001b[0;34m.\u001b[0m\u001b[0mpositive\u001b[0m \u001b[0;32melse\u001b[0m \u001b[0;34m[\u001b[0m\u001b[0;34m'csr'\u001b[0m\u001b[0;34m,\u001b[0m \u001b[0;34m'csc'\u001b[0m\u001b[0;34m,\u001b[0m \u001b[0;34m'coo'\u001b[0m\u001b[0;34m]\u001b[0m\u001b[0;34m\u001b[0m\u001b[0;34m\u001b[0m\u001b[0m\n\u001b[1;32m    517\u001b[0m \u001b[0;34m\u001b[0m\u001b[0m\n\u001b[0;32m--> 518\u001b[0;31m         X, y = self._validate_data(X, y, accept_sparse=accept_sparse,\n\u001b[0m\u001b[1;32m    519\u001b[0m                                    y_numeric=True, multi_output=True)\n\u001b[1;32m    520\u001b[0m \u001b[0;34m\u001b[0m\u001b[0m\n",
      "\u001b[0;32m~/anaconda3/lib/python3.8/site-packages/sklearn/base.py\u001b[0m in \u001b[0;36m_validate_data\u001b[0;34m(self, X, y, reset, validate_separately, **check_params)\u001b[0m\n\u001b[1;32m    431\u001b[0m                 \u001b[0my\u001b[0m \u001b[0;34m=\u001b[0m \u001b[0mcheck_array\u001b[0m\u001b[0;34m(\u001b[0m\u001b[0my\u001b[0m\u001b[0;34m,\u001b[0m \u001b[0;34m**\u001b[0m\u001b[0mcheck_y_params\u001b[0m\u001b[0;34m)\u001b[0m\u001b[0;34m\u001b[0m\u001b[0;34m\u001b[0m\u001b[0m\n\u001b[1;32m    432\u001b[0m             \u001b[0;32melse\u001b[0m\u001b[0;34m:\u001b[0m\u001b[0;34m\u001b[0m\u001b[0;34m\u001b[0m\u001b[0m\n\u001b[0;32m--> 433\u001b[0;31m                 \u001b[0mX\u001b[0m\u001b[0;34m,\u001b[0m \u001b[0my\u001b[0m \u001b[0;34m=\u001b[0m \u001b[0mcheck_X_y\u001b[0m\u001b[0;34m(\u001b[0m\u001b[0mX\u001b[0m\u001b[0;34m,\u001b[0m \u001b[0my\u001b[0m\u001b[0;34m,\u001b[0m \u001b[0;34m**\u001b[0m\u001b[0mcheck_params\u001b[0m\u001b[0;34m)\u001b[0m\u001b[0;34m\u001b[0m\u001b[0;34m\u001b[0m\u001b[0m\n\u001b[0m\u001b[1;32m    434\u001b[0m             \u001b[0mout\u001b[0m \u001b[0;34m=\u001b[0m \u001b[0mX\u001b[0m\u001b[0;34m,\u001b[0m \u001b[0my\u001b[0m\u001b[0;34m\u001b[0m\u001b[0;34m\u001b[0m\u001b[0m\n\u001b[1;32m    435\u001b[0m \u001b[0;34m\u001b[0m\u001b[0m\n",
      "\u001b[0;32m~/anaconda3/lib/python3.8/site-packages/sklearn/utils/validation.py\u001b[0m in \u001b[0;36minner_f\u001b[0;34m(*args, **kwargs)\u001b[0m\n\u001b[1;32m     61\u001b[0m             \u001b[0mextra_args\u001b[0m \u001b[0;34m=\u001b[0m \u001b[0mlen\u001b[0m\u001b[0;34m(\u001b[0m\u001b[0margs\u001b[0m\u001b[0;34m)\u001b[0m \u001b[0;34m-\u001b[0m \u001b[0mlen\u001b[0m\u001b[0;34m(\u001b[0m\u001b[0mall_args\u001b[0m\u001b[0;34m)\u001b[0m\u001b[0;34m\u001b[0m\u001b[0;34m\u001b[0m\u001b[0m\n\u001b[1;32m     62\u001b[0m             \u001b[0;32mif\u001b[0m \u001b[0mextra_args\u001b[0m \u001b[0;34m<=\u001b[0m \u001b[0;36m0\u001b[0m\u001b[0;34m:\u001b[0m\u001b[0;34m\u001b[0m\u001b[0;34m\u001b[0m\u001b[0m\n\u001b[0;32m---> 63\u001b[0;31m                 \u001b[0;32mreturn\u001b[0m \u001b[0mf\u001b[0m\u001b[0;34m(\u001b[0m\u001b[0;34m*\u001b[0m\u001b[0margs\u001b[0m\u001b[0;34m,\u001b[0m \u001b[0;34m**\u001b[0m\u001b[0mkwargs\u001b[0m\u001b[0;34m)\u001b[0m\u001b[0;34m\u001b[0m\u001b[0;34m\u001b[0m\u001b[0m\n\u001b[0m\u001b[1;32m     64\u001b[0m \u001b[0;34m\u001b[0m\u001b[0m\n\u001b[1;32m     65\u001b[0m             \u001b[0;31m# extra_args > 0\u001b[0m\u001b[0;34m\u001b[0m\u001b[0;34m\u001b[0m\u001b[0;34m\u001b[0m\u001b[0m\n",
      "\u001b[0;32m~/anaconda3/lib/python3.8/site-packages/sklearn/utils/validation.py\u001b[0m in \u001b[0;36mcheck_X_y\u001b[0;34m(X, y, accept_sparse, accept_large_sparse, dtype, order, copy, force_all_finite, ensure_2d, allow_nd, multi_output, ensure_min_samples, ensure_min_features, y_numeric, estimator)\u001b[0m\n\u001b[1;32m    821\u001b[0m                     estimator=estimator)\n\u001b[1;32m    822\u001b[0m     \u001b[0;32mif\u001b[0m \u001b[0mmulti_output\u001b[0m\u001b[0;34m:\u001b[0m\u001b[0;34m\u001b[0m\u001b[0;34m\u001b[0m\u001b[0m\n\u001b[0;32m--> 823\u001b[0;31m         y = check_array(y, accept_sparse='csr', force_all_finite=True,\n\u001b[0m\u001b[1;32m    824\u001b[0m                         ensure_2d=False, dtype=None)\n\u001b[1;32m    825\u001b[0m     \u001b[0;32melse\u001b[0m\u001b[0;34m:\u001b[0m\u001b[0;34m\u001b[0m\u001b[0;34m\u001b[0m\u001b[0m\n",
      "\u001b[0;32m~/anaconda3/lib/python3.8/site-packages/sklearn/utils/validation.py\u001b[0m in \u001b[0;36minner_f\u001b[0;34m(*args, **kwargs)\u001b[0m\n\u001b[1;32m     61\u001b[0m             \u001b[0mextra_args\u001b[0m \u001b[0;34m=\u001b[0m \u001b[0mlen\u001b[0m\u001b[0;34m(\u001b[0m\u001b[0margs\u001b[0m\u001b[0;34m)\u001b[0m \u001b[0;34m-\u001b[0m \u001b[0mlen\u001b[0m\u001b[0;34m(\u001b[0m\u001b[0mall_args\u001b[0m\u001b[0;34m)\u001b[0m\u001b[0;34m\u001b[0m\u001b[0;34m\u001b[0m\u001b[0m\n\u001b[1;32m     62\u001b[0m             \u001b[0;32mif\u001b[0m \u001b[0mextra_args\u001b[0m \u001b[0;34m<=\u001b[0m \u001b[0;36m0\u001b[0m\u001b[0;34m:\u001b[0m\u001b[0;34m\u001b[0m\u001b[0;34m\u001b[0m\u001b[0m\n\u001b[0;32m---> 63\u001b[0;31m                 \u001b[0;32mreturn\u001b[0m \u001b[0mf\u001b[0m\u001b[0;34m(\u001b[0m\u001b[0;34m*\u001b[0m\u001b[0margs\u001b[0m\u001b[0;34m,\u001b[0m \u001b[0;34m**\u001b[0m\u001b[0mkwargs\u001b[0m\u001b[0;34m)\u001b[0m\u001b[0;34m\u001b[0m\u001b[0;34m\u001b[0m\u001b[0m\n\u001b[0m\u001b[1;32m     64\u001b[0m \u001b[0;34m\u001b[0m\u001b[0m\n\u001b[1;32m     65\u001b[0m             \u001b[0;31m# extra_args > 0\u001b[0m\u001b[0;34m\u001b[0m\u001b[0;34m\u001b[0m\u001b[0;34m\u001b[0m\u001b[0m\n",
      "\u001b[0;32m~/anaconda3/lib/python3.8/site-packages/sklearn/utils/validation.py\u001b[0m in \u001b[0;36mcheck_array\u001b[0;34m(array, accept_sparse, accept_large_sparse, dtype, order, copy, force_all_finite, ensure_2d, allow_nd, ensure_min_samples, ensure_min_features, estimator)\u001b[0m\n\u001b[1;32m    665\u001b[0m \u001b[0;34m\u001b[0m\u001b[0m\n\u001b[1;32m    666\u001b[0m     \u001b[0;32mif\u001b[0m \u001b[0mensure_min_samples\u001b[0m \u001b[0;34m>\u001b[0m \u001b[0;36m0\u001b[0m\u001b[0;34m:\u001b[0m\u001b[0;34m\u001b[0m\u001b[0;34m\u001b[0m\u001b[0m\n\u001b[0;32m--> 667\u001b[0;31m         \u001b[0mn_samples\u001b[0m \u001b[0;34m=\u001b[0m \u001b[0m_num_samples\u001b[0m\u001b[0;34m(\u001b[0m\u001b[0marray\u001b[0m\u001b[0;34m)\u001b[0m\u001b[0;34m\u001b[0m\u001b[0;34m\u001b[0m\u001b[0m\n\u001b[0m\u001b[1;32m    668\u001b[0m         \u001b[0;32mif\u001b[0m \u001b[0mn_samples\u001b[0m \u001b[0;34m<\u001b[0m \u001b[0mensure_min_samples\u001b[0m\u001b[0;34m:\u001b[0m\u001b[0;34m\u001b[0m\u001b[0;34m\u001b[0m\u001b[0m\n\u001b[1;32m    669\u001b[0m             raise ValueError(\"Found array with %d sample(s) (shape=%s) while a\"\n",
      "\u001b[0;32m~/anaconda3/lib/python3.8/site-packages/sklearn/utils/validation.py\u001b[0m in \u001b[0;36m_num_samples\u001b[0;34m(x)\u001b[0m\n\u001b[1;32m    200\u001b[0m     \u001b[0;32mif\u001b[0m \u001b[0mhasattr\u001b[0m\u001b[0;34m(\u001b[0m\u001b[0mx\u001b[0m\u001b[0;34m,\u001b[0m \u001b[0;34m'shape'\u001b[0m\u001b[0;34m)\u001b[0m \u001b[0;32mand\u001b[0m \u001b[0mx\u001b[0m\u001b[0;34m.\u001b[0m\u001b[0mshape\u001b[0m \u001b[0;32mis\u001b[0m \u001b[0;32mnot\u001b[0m \u001b[0;32mNone\u001b[0m\u001b[0;34m:\u001b[0m\u001b[0;34m\u001b[0m\u001b[0;34m\u001b[0m\u001b[0m\n\u001b[1;32m    201\u001b[0m         \u001b[0;32mif\u001b[0m \u001b[0mlen\u001b[0m\u001b[0;34m(\u001b[0m\u001b[0mx\u001b[0m\u001b[0;34m.\u001b[0m\u001b[0mshape\u001b[0m\u001b[0;34m)\u001b[0m \u001b[0;34m==\u001b[0m \u001b[0;36m0\u001b[0m\u001b[0;34m:\u001b[0m\u001b[0;34m\u001b[0m\u001b[0;34m\u001b[0m\u001b[0m\n\u001b[0;32m--> 202\u001b[0;31m             raise TypeError(\"Singleton array %r cannot be considered\"\n\u001b[0m\u001b[1;32m    203\u001b[0m                             \" a valid collection.\" % x)\n\u001b[1;32m    204\u001b[0m         \u001b[0;31m# Check that shape is returning an integer or default to len\u001b[0m\u001b[0;34m\u001b[0m\u001b[0;34m\u001b[0m\u001b[0;34m\u001b[0m\u001b[0m\n",
      "\u001b[0;31mTypeError\u001b[0m: Singleton array array(2) cannot be considered a valid collection."
     ]
    }
   ],
   "source": [
    "classifiers = build_classifiers()\n",
    "predicted = build_stacked_classifier(classifiers)\n",
    "accuracy = accuracy_score(test_labels, predicted)\n",
    "print(accuracy)"
   ]
  },
  {
   "cell_type": "markdown",
   "metadata": {},
   "source": [
    "## Exercise 2: \n",
    "\n",
    "Use the boosting method and change the code to fullfilt the following requirements:\n",
    "\n",
    "* the weights should be calculated as:\n",
    "$w_{n}^{(t+1)}=\\frac{1+ I(y_{n}\\neq h_{t}(x_{n})}{\\sum_{i=1}^{N}1+I(y_{n}\\neq h_{t}(x_{n})}$,\n",
    "* the prediction is done with a voting method."
   ]
  },
  {
   "cell_type": "code",
   "execution_count": 10,
   "metadata": {},
   "outputs": [],
   "source": [
    "import numpy as np\n",
    "from sklearn.tree import DecisionTreeClassifier\n",
    "\n",
    "# prepare data set\n",
    "\n",
    "def generate_data(sample_number, feature_number, label_number):\n",
    "    data_set = np.random.random_sample((sample_number, feature_number))\n",
    "    labels = np.random.choice(label_number, sample_number)\n",
    "    return data_set, labels\n",
    "\n",
    "labels = 2\n",
    "dimension = 2\n",
    "test_set_size = 1000\n",
    "train_set_size = 5000\n",
    "train_set, train_labels = generate_data(train_set_size, dimension, labels)\n",
    "test_set, test_labels = generate_data(test_set_size, dimension, labels)\n",
    "\n",
    "# init weights\n",
    "number_of_iterations = 10\n",
    "weights = np.ones((test_set_size,)) / test_set_size\n",
    "\n",
    "\n",
    "def train_model(classifier, weights):\n",
    "    return classifier.fit(X=test_set, y=test_labels, sample_weight=weights)\n",
    "\n",
    "def calculate_error(model):\n",
    "    predicted = model.predict(test_set)\n",
    "    I=calculate_accuracy_vector(predicted, test_labels)\n",
    "    Z=np.sum(I)\n",
    "    return (1+Z)/1.0"
   ]
  },
  {
   "cell_type": "markdown",
   "metadata": {},
   "source": [
    "Fill the two functions below:"
   ]
  },
  {
   "cell_type": "code",
   "execution_count": 17,
   "metadata": {},
   "outputs": [],
   "source": [
    "\n",
    "\n",
    "def set_new_weights(model):\n",
    "    predicted_values = model.predict(test_set)\n",
    "    weights = []\n",
    "    \n",
    "    for i in range(len(predicted_values)):\n",
    "        if predicted_values[i] == test_labels[i]:\n",
    "            weights.append(0)\n",
    "        else:\n",
    "            weights.append(1)\n",
    "    \n",
    "    for weight in weights: \n",
    "        weight+=1\n",
    "    Z = np.sum(weights)\n",
    "    weights=weights/Z\n",
    "    return weights "
   ]
  },
  {
   "cell_type": "markdown",
   "metadata": {},
   "source": [
    "Train the classifier with the code below:"
   ]
  },
  {
   "cell_type": "code",
   "execution_count": 30,
   "metadata": {},
   "outputs": [
    {
     "name": "stdout",
     "output_type": "stream",
     "text": [
      "[0.00196078 0.00196078 0.         0.         0.00196078 0.00196078\n",
      " 0.         0.00196078 0.         0.00196078 0.         0.00196078\n",
      " 0.00196078 0.         0.00196078 0.         0.         0.00196078\n",
      " 0.         0.00196078 0.00196078 0.         0.         0.\n",
      " 0.00196078 0.         0.00196078 0.         0.         0.00196078\n",
      " 0.         0.00196078 0.00196078 0.         0.00196078 0.00196078\n",
      " 0.00196078 0.00196078 0.         0.         0.00196078 0.\n",
      " 0.         0.00196078 0.         0.         0.         0.\n",
      " 0.00196078 0.00196078 0.00196078 0.         0.         0.00196078\n",
      " 0.         0.         0.00196078 0.         0.00196078 0.00196078\n",
      " 0.00196078 0.         0.00196078 0.         0.         0.\n",
      " 0.         0.00196078 0.00196078 0.00196078 0.         0.\n",
      " 0.         0.00196078 0.00196078 0.         0.         0.00196078\n",
      " 0.00196078 0.00196078 0.         0.         0.00196078 0.\n",
      " 0.         0.         0.00196078 0.         0.00196078 0.\n",
      " 0.         0.         0.00196078 0.00196078 0.00196078 0.\n",
      " 0.         0.00196078 0.         0.00196078 0.         0.\n",
      " 0.         0.00196078 0.         0.00196078 0.         0.00196078\n",
      " 0.00196078 0.00196078 0.         0.00196078 0.         0.\n",
      " 0.         0.00196078 0.00196078 0.         0.         0.\n",
      " 0.         0.00196078 0.         0.         0.00196078 0.\n",
      " 0.00196078 0.00196078 0.         0.00196078 0.00196078 0.\n",
      " 0.         0.00196078 0.         0.         0.00196078 0.\n",
      " 0.         0.00196078 0.00196078 0.         0.         0.\n",
      " 0.         0.00196078 0.         0.00196078 0.00196078 0.\n",
      " 0.00196078 0.00196078 0.         0.00196078 0.         0.\n",
      " 0.         0.00196078 0.00196078 0.         0.00196078 0.00196078\n",
      " 0.00196078 0.00196078 0.00196078 0.00196078 0.         0.00196078\n",
      " 0.         0.00196078 0.         0.00196078 0.         0.\n",
      " 0.00196078 0.00196078 0.         0.         0.         0.00196078\n",
      " 0.00196078 0.00196078 0.00196078 0.00196078 0.         0.00196078\n",
      " 0.         0.         0.         0.00196078 0.         0.00196078\n",
      " 0.00196078 0.00196078 0.         0.00196078 0.         0.\n",
      " 0.         0.         0.         0.00196078 0.00196078 0.\n",
      " 0.00196078 0.00196078 0.00196078 0.00196078 0.00196078 0.00196078\n",
      " 0.00196078 0.         0.00196078 0.00196078 0.00196078 0.00196078\n",
      " 0.         0.00196078 0.00196078 0.00196078 0.         0.00196078\n",
      " 0.00196078 0.         0.00196078 0.         0.         0.\n",
      " 0.00196078 0.         0.         0.         0.00196078 0.00196078\n",
      " 0.         0.         0.         0.         0.         0.\n",
      " 0.         0.         0.         0.         0.00196078 0.00196078\n",
      " 0.00196078 0.00196078 0.         0.00196078 0.00196078 0.\n",
      " 0.00196078 0.         0.00196078 0.         0.         0.00196078\n",
      " 0.         0.         0.00196078 0.00196078 0.00196078 0.00196078\n",
      " 0.         0.00196078 0.         0.00196078 0.         0.\n",
      " 0.00196078 0.00196078 0.00196078 0.         0.00196078 0.00196078\n",
      " 0.00196078 0.         0.00196078 0.00196078 0.         0.00196078\n",
      " 0.00196078 0.00196078 0.         0.00196078 0.         0.00196078\n",
      " 0.         0.00196078 0.         0.00196078 0.00196078 0.\n",
      " 0.00196078 0.00196078 0.         0.         0.         0.00196078\n",
      " 0.00196078 0.00196078 0.00196078 0.00196078 0.         0.00196078\n",
      " 0.         0.00196078 0.         0.00196078 0.00196078 0.00196078\n",
      " 0.00196078 0.         0.         0.         0.00196078 0.00196078\n",
      " 0.00196078 0.         0.         0.00196078 0.00196078 0.\n",
      " 0.         0.00196078 0.         0.00196078 0.         0.00196078\n",
      " 0.         0.00196078 0.         0.00196078 0.         0.00196078\n",
      " 0.         0.00196078 0.00196078 0.         0.         0.\n",
      " 0.00196078 0.00196078 0.         0.         0.00196078 0.00196078\n",
      " 0.00196078 0.00196078 0.         0.         0.00196078 0.00196078\n",
      " 0.         0.         0.00196078 0.00196078 0.00196078 0.\n",
      " 0.         0.         0.00196078 0.00196078 0.00196078 0.\n",
      " 0.         0.00196078 0.00196078 0.00196078 0.         0.\n",
      " 0.00196078 0.         0.         0.         0.         0.\n",
      " 0.00196078 0.00196078 0.         0.00196078 0.         0.00196078\n",
      " 0.00196078 0.00196078 0.00196078 0.         0.00196078 0.00196078\n",
      " 0.00196078 0.         0.00196078 0.00196078 0.         0.\n",
      " 0.00196078 0.         0.00196078 0.         0.         0.00196078\n",
      " 0.         0.         0.         0.00196078 0.00196078 0.\n",
      " 0.00196078 0.         0.         0.00196078 0.00196078 0.\n",
      " 0.         0.00196078 0.00196078 0.00196078 0.         0.00196078\n",
      " 0.         0.         0.         0.00196078 0.         0.\n",
      " 0.00196078 0.         0.00196078 0.00196078 0.00196078 0.\n",
      " 0.00196078 0.00196078 0.00196078 0.00196078 0.         0.00196078\n",
      " 0.00196078 0.00196078 0.         0.         0.00196078 0.\n",
      " 0.         0.00196078 0.00196078 0.         0.00196078 0.\n",
      " 0.         0.00196078 0.         0.00196078 0.         0.\n",
      " 0.         0.         0.         0.         0.00196078 0.\n",
      " 0.00196078 0.00196078 0.00196078 0.00196078 0.         0.00196078\n",
      " 0.         0.         0.         0.         0.         0.\n",
      " 0.         0.00196078 0.00196078 0.         0.         0.\n",
      " 0.00196078 0.00196078 0.         0.         0.         0.\n",
      " 0.00196078 0.00196078 0.         0.00196078 0.         0.\n",
      " 0.         0.         0.00196078 0.00196078 0.00196078 0.00196078\n",
      " 0.00196078 0.         0.00196078 0.00196078 0.00196078 0.00196078\n",
      " 0.         0.         0.         0.00196078 0.         0.00196078\n",
      " 0.00196078 0.00196078 0.         0.         0.00196078 0.00196078\n",
      " 0.         0.00196078 0.00196078 0.00196078 0.00196078 0.00196078\n",
      " 0.00196078 0.00196078 0.00196078 0.         0.00196078 0.\n",
      " 0.00196078 0.00196078 0.         0.         0.         0.00196078\n",
      " 0.00196078 0.00196078 0.00196078 0.00196078 0.00196078 0.00196078\n",
      " 0.         0.         0.00196078 0.00196078 0.         0.00196078\n",
      " 0.         0.         0.         0.         0.         0.\n",
      " 0.00196078 0.         0.         0.         0.00196078 0.00196078\n",
      " 0.00196078 0.         0.         0.         0.00196078 0.00196078\n",
      " 0.00196078 0.00196078 0.00196078 0.         0.00196078 0.00196078\n",
      " 0.         0.         0.00196078 0.00196078 0.         0.00196078\n",
      " 0.         0.00196078 0.         0.         0.         0.\n",
      " 0.00196078 0.00196078 0.         0.00196078 0.         0.\n",
      " 0.00196078 0.         0.         0.         0.00196078 0.00196078\n",
      " 0.00196078 0.00196078 0.         0.         0.         0.\n",
      " 0.         0.         0.         0.         0.         0.\n",
      " 0.00196078 0.00196078 0.00196078 0.         0.00196078 0.00196078\n",
      " 0.00196078 0.         0.         0.         0.00196078 0.\n",
      " 0.         0.00196078 0.         0.         0.00196078 0.\n",
      " 0.         0.00196078 0.00196078 0.00196078 0.00196078 0.00196078\n",
      " 0.         0.00196078 0.         0.         0.00196078 0.\n",
      " 0.         0.         0.00196078 0.00196078 0.         0.00196078\n",
      " 0.00196078 0.00196078 0.00196078 0.         0.00196078 0.00196078\n",
      " 0.         0.         0.         0.         0.00196078 0.00196078\n",
      " 0.         0.00196078 0.         0.         0.         0.\n",
      " 0.         0.         0.00196078 0.         0.         0.\n",
      " 0.00196078 0.00196078 0.00196078 0.         0.         0.00196078\n",
      " 0.         0.00196078 0.         0.         0.         0.\n",
      " 0.         0.00196078 0.         0.00196078 0.00196078 0.00196078\n",
      " 0.         0.         0.         0.00196078 0.         0.00196078\n",
      " 0.         0.00196078 0.         0.00196078 0.         0.00196078\n",
      " 0.00196078 0.00196078 0.         0.00196078 0.         0.\n",
      " 0.         0.00196078 0.         0.         0.         0.00196078\n",
      " 0.         0.         0.         0.         0.00196078 0.\n",
      " 0.         0.         0.00196078 0.00196078 0.         0.\n",
      " 0.00196078 0.00196078 0.00196078 0.         0.         0.00196078\n",
      " 0.00196078 0.00196078 0.00196078 0.         0.         0.\n",
      " 0.         0.         0.         0.         0.         0.\n",
      " 0.         0.         0.         0.         0.00196078 0.\n",
      " 0.00196078 0.00196078 0.00196078 0.00196078 0.00196078 0.\n",
      " 0.00196078 0.         0.00196078 0.         0.00196078 0.00196078\n",
      " 0.00196078 0.00196078 0.         0.         0.00196078 0.00196078\n",
      " 0.         0.         0.00196078 0.00196078 0.         0.00196078\n",
      " 0.00196078 0.         0.         0.00196078 0.00196078 0.00196078\n",
      " 0.         0.         0.         0.00196078 0.         0.00196078\n",
      " 0.         0.00196078 0.         0.00196078 0.         0.00196078\n",
      " 0.         0.00196078 0.         0.         0.         0.00196078\n",
      " 0.         0.00196078 0.00196078 0.00196078 0.         0.\n",
      " 0.         0.00196078 0.00196078 0.         0.00196078 0.\n",
      " 0.         0.00196078 0.         0.00196078 0.         0.00196078\n",
      " 0.         0.00196078 0.00196078 0.         0.00196078 0.00196078\n",
      " 0.         0.00196078 0.00196078 0.00196078 0.         0.00196078\n",
      " 0.00196078 0.00196078 0.         0.00196078 0.00196078 0.00196078\n",
      " 0.         0.00196078 0.00196078 0.00196078 0.         0.00196078\n",
      " 0.         0.         0.00196078 0.         0.00196078 0.00196078\n",
      " 0.00196078 0.00196078 0.00196078 0.00196078 0.         0.\n",
      " 0.00196078 0.00196078 0.00196078 0.00196078 0.         0.\n",
      " 0.00196078 0.         0.         0.         0.         0.00196078\n",
      " 0.00196078 0.00196078 0.         0.00196078 0.00196078 0.00196078\n",
      " 0.00196078 0.00196078 0.         0.00196078 0.00196078 0.\n",
      " 0.00196078 0.00196078 0.00196078 0.         0.00196078 0.\n",
      " 0.         0.00196078 0.         0.00196078 0.00196078 0.\n",
      " 0.         0.         0.00196078 0.00196078 0.00196078 0.00196078\n",
      " 0.00196078 0.         0.00196078 0.00196078 0.00196078 0.00196078\n",
      " 0.00196078 0.         0.         0.00196078 0.00196078 0.00196078\n",
      " 0.00196078 0.00196078 0.00196078 0.00196078 0.00196078 0.\n",
      " 0.00196078 0.         0.         0.         0.         0.\n",
      " 0.         0.         0.00196078 0.         0.00196078 0.00196078\n",
      " 0.         0.00196078 0.00196078 0.00196078 0.         0.00196078\n",
      " 0.         0.00196078 0.00196078 0.00196078 0.00196078 0.\n",
      " 0.00196078 0.00196078 0.         0.00196078 0.         0.\n",
      " 0.         0.         0.00196078 0.00196078 0.00196078 0.\n",
      " 0.00196078 0.00196078 0.         0.00196078 0.00196078 0.00196078\n",
      " 0.00196078 0.00196078 0.         0.         0.00196078 0.\n",
      " 0.         0.00196078 0.00196078 0.00196078 0.         0.\n",
      " 0.         0.         0.00196078 0.         0.         0.00196078\n",
      " 0.00196078 0.         0.00196078 0.         0.         0.\n",
      " 0.00196078 0.         0.         0.00196078 0.         0.00196078\n",
      " 0.00196078 0.         0.         0.         0.         0.00196078\n",
      " 0.         0.00196078 0.00196078 0.00196078 0.         0.\n",
      " 0.00196078 0.         0.         0.00196078 0.         0.\n",
      " 0.         0.         0.00196078 0.00196078]\n"
     ]
    }
   ],
   "source": [
    "classifier = DecisionTreeClassifier(max_depth=1, random_state=1)\n",
    "classifier.fit(X=train_set, y=train_labels)\n",
    "alphas = []\n",
    "classifiers = []\n",
    "for iteration in range(number_of_iterations):\n",
    "    model = train_model(classifier, weights)\n",
    "    weights = set_new_weights(model)\n",
    "    classifiers.append(model)\n",
    "\n",
    "print(weights)\n",
    "\n",
    "\n",
    "validate_x, validate_label = generate_data(1, dimension, labels)"
   ]
  },
  {
   "cell_type": "markdown",
   "metadata": {},
   "source": [
    "Set the validation data set:"
   ]
  },
  {
   "cell_type": "code",
   "execution_count": 31,
   "metadata": {},
   "outputs": [],
   "source": [
    "validate_x, validate_label = generate_data(1, dimension, labels)"
   ]
  },
  {
   "cell_type": "markdown",
   "metadata": {},
   "source": [
    "Fill the prediction code:"
   ]
  },
  {
   "cell_type": "code",
   "execution_count": 40,
   "metadata": {},
   "outputs": [],
   "source": [
    "def get_prediction(x):\n",
    "    res=[]\n",
    "    predictions = np.zeros(len(classifiers))\n",
    "    for i in range(len(classifiers)): \n",
    "        predictions[i] = classifiers[i].predict(x)\n",
    "    \n",
    "    if(np.sum(predictions)>1/2*len(classifiers)):\n",
    "        res.append(1)\n",
    "    else:\n",
    "        res.append(0)\n",
    "    #print(res)    \n",
    "    return res"
   ]
  },
  {
   "cell_type": "markdown",
   "metadata": {},
   "source": [
    "Test it:"
   ]
  },
  {
   "cell_type": "code",
   "execution_count": 41,
   "metadata": {},
   "outputs": [
    {
     "name": "stdout",
     "output_type": "stream",
     "text": [
      "[1]\n"
     ]
    }
   ],
   "source": [
    "prediction = get_prediction(validate_x)\n",
    "\n",
    "print(prediction)"
   ]
  },
  {
   "cell_type": "code",
   "execution_count": null,
   "metadata": {},
   "outputs": [],
   "source": []
  }
 ],
 "metadata": {
  "kernelspec": {
   "display_name": "Python 3",
   "language": "python",
   "name": "python3"
  },
  "language_info": {
   "codemirror_mode": {
    "name": "ipython",
    "version": 3
   },
   "file_extension": ".py",
   "mimetype": "text/x-python",
   "name": "python",
   "nbconvert_exporter": "python",
   "pygments_lexer": "ipython3",
   "version": "3.8.8"
  }
 },
 "nbformat": 4,
 "nbformat_minor": 4
}
